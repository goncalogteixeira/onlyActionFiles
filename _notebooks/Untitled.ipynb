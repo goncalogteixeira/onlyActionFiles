{
  "cells": [
    {
      "metadata": {},
      "cell_type": "markdown",
      "source": "# Report Sobre o Webscrapping Realizado\n\n\nEste relatório irá dar informações dos resultados de webscraping para o dia em questão."
    },
    {
      "metadata": {
        "trusted": true
      },
      "cell_type": "code",
      "source": "##Python code that reads the data\nimport json\n\nwith open('./props.json') as f:\n  data = json.load(f)\n\n# Output: {'name': 'Bob', 'languages': ['English', 'Fench']}\nprint(data)\n\nprint('Hello World')",
      "execution_count": null,
      "outputs": []
    },
    {
      "metadata": {},
      "cell_type": "markdown",
      "source": "Estatísticas sobre os dados lidos:"
    },
    {
      "metadata": {
        "trusted": true
      },
      "cell_type": "code",
      "source": "print('Hello World')",
      "execution_count": null,
      "outputs": []
    },
    {
      "metadata": {},
      "cell_type": "markdown",
      "source": "#### Display stats like mediam price per zone and mediam price per square meter of the house"
    }
  ],
  "metadata": {
    "kernelspec": {
      "name": "python36",
      "display_name": "Python 3.6",
      "language": "python"
    },
    "language_info": {
      "mimetype": "text/x-python",
      "nbconvert_exporter": "python",
      "name": "python",
      "pygments_lexer": "ipython3",
      "version": "3.6.6",
      "file_extension": ".py",
      "codemirror_mode": {
        "version": 3,
        "name": "ipython"
      }
    }
  },
  "nbformat": 4,
  "nbformat_minor": 1
}