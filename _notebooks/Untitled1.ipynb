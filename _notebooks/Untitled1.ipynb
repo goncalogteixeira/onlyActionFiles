{
  "nbformat": 4,
  "nbformat_minor": 0,
  "metadata": {
    "colab": {
      "name": "Untitled1.ipynb",
      "provenance": [],
      "collapsed_sections": []
    },
    "kernelspec": {
      "name": "python3",
      "display_name": "Python 3"
    }
  },
  "cells": [
    {
      "cell_type": "code",
      "metadata": {
        "id": "BShb6Ne1lBq2",
        "colab_type": "code",
        "outputId": "768ae780-4f1e-41db-fcf9-889bee844538",
        "colab": {
          "base_uri": "https://localhost:8080/",
          "height": 1000
        }
      },
      "source": [
        "import requests\n",
        "import json\n",
        "\n",
        "url = \"https://raw.githubusercontent.com/goncalogteixeira/onlyActionFiles/master/_notebooks/props.json\"\n",
        "\n",
        "r = requests.get(url)\n",
        "houses = json.loads(r.text)\n",
        "houses\n",
        "#print( \"Number of houses read:\" , len(houses) )\n",
        "\n",
        "# short resume of houses\n"
      ],
      "execution_count": 2,
      "outputs": [
        {
          "output_type": "execute_result",
          "data": {
            "text/plain": [
              "[{'prop': {'img_url': 'https://cdn.21onlineapp.com/assets/images/apt-t3-feijo_0e6fd1c4-22b9-4b73-8696-ecb2103fae81.jpg?down.colorspace=linear&f.sharpen=50&w=400&h=282&scale=both&mode=crop&format=jpg&quality=85',\n",
              "   'link': 'https://www.century21.pt/comprar/apartamento/almada/apartamento-t3-95m2-apartamento-t3-no-feijo-r-c-alto-laranjeiro-e-feijo-feijo-2035479',\n",
              "   'location': 'Almada, Laranjeiro e Feijo, Feijo',\n",
              "   'price': '149 900 EUR',\n",
              "   'title': 'APARTAMENTO T3 NO FEIJO R/C ALTO'},\n",
              "  'specs': {'construction_year': '1984',\n",
              "   'energetic_cert': 'C',\n",
              "   'gross_area': '100',\n",
              "   'nbaths': '1 Casa de banho',\n",
              "   'nrooms': '3 Quartos',\n",
              "   'ref': '0739-02279',\n",
              "   'state_prop': 'Bom',\n",
              "   'state_sale': 'Venda',\n",
              "   'type_prop': 'Apartamento',\n",
              "   'useful_area': '95'}},\n",
              " {'prop': {'img_url': 'https://cdn.21onlineapp.com/assets/images/img-20200228-163542_e68db89c-18d4-4144-90ae-2b3bc53a5e60.jpg?down.colorspace=linear&f.sharpen=50&w=400&h=282&scale=both&mode=crop&format=jpg&quality=85',\n",
              "   'link': 'https://www.century21.pt/comprar/apartamento/torres-novas/apartamento-t2-101m2-apartamento-t2-em-torres-novas-torres-novas-santa-maria-salvador-e-santiago-centro-santa-maria-2030236',\n",
              "   'location': 'Torres Novas, Torres Novas (Santa Maria Salvador e Santiago), Centro (Santa Maria)',\n",
              "   'price': '87 500 EUR',\n",
              "   'title': 'Apartamento T2 em Torres Novas'},\n",
              "  'specs': {'construction_year': '16',\n",
              "   'energetic_cert': '1 Box Fechada',\n",
              "   'gross_area': '124',\n",
              "   'nbaths': '1 Casa de banho',\n",
              "   'nrooms': '2 Quartos',\n",
              "   'ref': 'C0269-00772',\n",
              "   'state_prop': 'Bom',\n",
              "   'state_sale': 'Venda',\n",
              "   'type_prop': 'Apartamento',\n",
              "   'useful_area': '101'}},\n",
              " {'prop': {'img_url': 'https://cdn.21onlineapp.com/assets/images/mas20243_ee3a83aa-d432-4286-a010-486e61e5675e.jpg?down.colorspace=linear&f.sharpen=50&w=400&h=282&scale=both&mode=crop&format=jpg&quality=85',\n",
              "   'link': 'https://www.century21.pt/comprar/apartamento/lisboa/apartamento-t1-56m2-t1-2-assoalhadas-na-quinta-dos-alcoutins-lumiar-2034519',\n",
              "   'location': 'Lisboa, Lumiar',\n",
              "   'price': '236 900 EUR',\n",
              "   'title': 'T1 , 2 assoalhadas na Quinta dos Alcoutins'},\n",
              "  'specs': {'construction_year': '2019',\n",
              "   'energetic_cert': '1 Garagem',\n",
              "   'gross_area': '60',\n",
              "   'nbaths': '1 Casa de banho',\n",
              "   'nrooms': '1 Quarto',\n",
              "   'ref': 'C0246-01946',\n",
              "   'state_prop': 'Excelente',\n",
              "   'state_sale': 'Venda',\n",
              "   'type_prop': 'Apartamento',\n",
              "   'useful_area': '56'}},\n",
              " {'prop': {'img_url': 'https://cdn.21onlineapp.com/assets/images/mas20243_968ab981-8583-4ed8-ac8f-322b15c03ba5.jpg?down.colorspace=linear&f.sharpen=50&w=400&h=282&scale=both&mode=crop&format=jpg&quality=85',\n",
              "   'link': 'https://www.century21.pt/comprar/apartamento/lisboa/apartamento-t2-122m2-t2-3-assoalhadas-na-quinta-dos-alcoutins-lumiar-2034523',\n",
              "   'location': 'Lisboa, Lumiar',\n",
              "   'price': '489 250 EUR',\n",
              "   'title': 'T2 , 3 assoalhadas na Quinta dos Alcoutins'},\n",
              "  'specs': {'construction_year': '2019',\n",
              "   'energetic_cert': '1 Garagem',\n",
              "   'gross_area': '134',\n",
              "   'nbaths': '2 Casas de banho',\n",
              "   'nrooms': '2 Quartos',\n",
              "   'ref': 'C0246-01950',\n",
              "   'state_prop': 'Excelente',\n",
              "   'state_sale': 'Venda',\n",
              "   'type_prop': 'Apartamento',\n",
              "   'useful_area': '122'}},\n",
              " {'prop': {'img_url': 'https://cdn.21onlineapp.com/assets/images/088testevista1_ca6d7dec-96af-42a6-9321-b7dd6da53da8.jpg?down.colorspace=linear&f.sharpen=50&w=400&h=282&scale=both&mode=crop&format=jpg&quality=85',\n",
              "   'link': 'https://www.century21.pt/comprar/apartamento/lisboa/apartamento-t1-60m2-t1-2-assoalhadas-com-terraco-de-15-m2-na-quinta-dos-alcoutins-lumiar-2034510',\n",
              "   'location': 'Lisboa, Lumiar',\n",
              "   'price': '247 200 EUR',\n",
              "   'title': 'T1 , 2 assoalhadas com terraco de 15 m2 na Quinta dos Alcoutins'},\n",
              "  'specs': {'construction_year': '2021',\n",
              "   'energetic_cert': '1 Garagem',\n",
              "   'gross_area': '75',\n",
              "   'nbaths': '1 Casa de banho',\n",
              "   'nrooms': '1 Quarto',\n",
              "   'ref': 'C0246-01943',\n",
              "   'state_prop': 'Excelente',\n",
              "   'state_sale': 'Venda',\n",
              "   'type_prop': 'Apartamento',\n",
              "   'useful_area': '60'}},\n",
              " {'prop': {'img_url': 'https://cdn.21onlineapp.com/assets/images/mas29901_4bebac1e-32b3-42ce-9456-4060552b179a.jpg?down.colorspace=linear&f.sharpen=50&w=400&h=282&scale=both&mode=crop&format=jpg&quality=85',\n",
              "   'link': 'https://www.century21.pt/comprar/apartamento/lisboa/apartamento-t1-55m2-t1-2-assoalhadas-na-quinta-dos-alcoutins-lumiar-2034517',\n",
              "   'location': 'Lisboa, Lumiar',\n",
              "   'price': '257 500 EUR',\n",
              "   'title': 'T1 , 2 assoalhadas na Quinta dos Alcoutins'},\n",
              "  'specs': {'construction_year': '2019',\n",
              "   'energetic_cert': '1 Garagem',\n",
              "   'gross_area': '55',\n",
              "   'nbaths': '1 Casa de banho',\n",
              "   'nrooms': '1 Quarto',\n",
              "   'ref': 'C0246-01944',\n",
              "   'state_prop': 'Excelente',\n",
              "   'state_sale': 'Venda',\n",
              "   'type_prop': 'Apartamento',\n",
              "   'useful_area': '55'}},\n",
              " {'prop': {'img_url': 'https://cdn.21onlineapp.com/assets/images/c0246-01083_943863f3-f55e-495f-915c-1f7eb6d7dfe1.jpg?down.colorspace=linear&f.sharpen=50&w=400&h=282&scale=both&mode=crop&format=jpg&quality=85',\n",
              "   'link': 'https://www.century21.pt/comprar/apartamento/lisboa/apartamento-t2-118m2-t2-3-assoalhadas-na-quinta-dos-alcoutins-lumiar-2034518',\n",
              "   'location': 'Lisboa, Lumiar',\n",
              "   'price': '463 500 EUR',\n",
              "   'title': 'T2 , 3 assoalhadas na Quinta dos Alcoutins'},\n",
              "  'specs': {'construction_year': '2019',\n",
              "   'energetic_cert': '1 Garagem',\n",
              "   'gross_area': '118',\n",
              "   'nbaths': '2 Casas de banho',\n",
              "   'nrooms': '2 Quartos',\n",
              "   'ref': 'C0246-01945',\n",
              "   'state_prop': 'Excelente',\n",
              "   'state_sale': 'Venda',\n",
              "   'type_prop': 'Apartamento',\n",
              "   'useful_area': '118'}},\n",
              " {'prop': {'img_url': 'https://cdn.21onlineapp.com/assets/images/mas20239_4783058a-4e76-44f7-bc26-3081bf6dc1ac.jpg?down.colorspace=linear&f.sharpen=50&w=400&h=282&scale=both&mode=crop&format=jpg&quality=85',\n",
              "   'link': 'https://www.century21.pt/comprar/apartamento/lisboa/apartamento-t1-57m2-t1-2-assoalhadas-na-quinta-dos-alcoutins-lumiar-2034522',\n",
              "   'location': 'Lisboa, Lumiar',\n",
              "   'price': '267 800 EUR',\n",
              "   'title': 'T1, 2 assoalhadas na Quinta dos Alcoutins'},\n",
              "  'specs': {'construction_year': '2019',\n",
              "   'energetic_cert': '1 Garagem',\n",
              "   'gross_area': '63',\n",
              "   'nbaths': '1 Casa de banho',\n",
              "   'nrooms': '1 Quarto',\n",
              "   'ref': 'C0246-01949',\n",
              "   'state_prop': 'Excelente',\n",
              "   'state_sale': 'Venda',\n",
              "   'type_prop': 'Apartamento',\n",
              "   'useful_area': '57'}},\n",
              " {'prop': {'img_url': 'https://cdn.21onlineapp.com/assets/images/088testevista1_9098f1f5-e599-48ec-9c1e-a90523951032.jpg?down.colorspace=linear&f.sharpen=50&w=400&h=282&scale=both&mode=crop&format=jpg&quality=85',\n",
              "   'link': 'https://www.century21.pt/comprar/apartamento/lisboa/apartamento-t1-56m2-t1-2-assoalhadas-na-quinta-dos-alcoutins-lumiar-2034524',\n",
              "   'location': 'Lisboa, Lumiar',\n",
              "   'price': '236 900 EUR',\n",
              "   'title': 'T1, 2 assoalhadas na Quinta dos Alcoutins'},\n",
              "  'specs': {'construction_year': '2019',\n",
              "   'energetic_cert': '1 Garagem',\n",
              "   'gross_area': '59',\n",
              "   'nbaths': '1 Casa de banho',\n",
              "   'nrooms': '1 Quarto',\n",
              "   'ref': 'C0246-01951',\n",
              "   'state_prop': 'Excelente',\n",
              "   'state_sale': 'Venda',\n",
              "   'type_prop': 'Apartamento',\n",
              "   'useful_area': '56'}},\n",
              " {'prop': {'img_url': 'https://cdn.21onlineapp.com/assets/images/088testevista1_717c23c0-ae37-48e8-8d99-16957e805592.jpg?down.colorspace=linear&f.sharpen=50&w=400&h=282&scale=both&mode=crop&format=jpg&quality=85',\n",
              "   'link': 'https://www.century21.pt/comprar/apartamento/lisboa/apartamento-t3-154m2-t3-4-assoalhadas-na-quinta-dos-alcoutins-lumiar-2034520',\n",
              "   'location': 'Lisboa, Lumiar',\n",
              "   'price': '587 100 EUR',\n",
              "   'title': 'T3, 4 assoalhadas na Quinta dos Alcoutins'},\n",
              "  'specs': {'construction_year': '2021',\n",
              "   'energetic_cert': '2 Garagens',\n",
              "   'gross_area': '168',\n",
              "   'nbaths': '3 Casas de banho',\n",
              "   'nrooms': '3 Quartos',\n",
              "   'ref': 'C0246-01947',\n",
              "   'state_prop': 'Excelente',\n",
              "   'state_sale': 'Venda',\n",
              "   'type_prop': 'Apartamento',\n",
              "   'useful_area': '154'}},\n",
              " {'prop': {'img_url': 'https://cdn.21onlineapp.com/assets/images/088testevista1_ac9b9c91-03e6-4300-b4dc-205cc8ed517b.jpg?down.colorspace=linear&f.sharpen=50&w=400&h=282&scale=both&mode=crop&format=jpg&quality=85',\n",
              "   'link': 'https://www.century21.pt/comprar/apartamento/lisboa/apartamento-t2-126m2-t2-3-assoalhadas-na-quinta-dos-alcoutins-lumiar-2034521',\n",
              "   'location': 'Lisboa, Lumiar',\n",
              "   'price': '494 400 EUR',\n",
              "   'title': 'T2, 3 assoalhadas na Quinta dos Alcoutins'},\n",
              "  'specs': {'construction_year': '2019',\n",
              "   'energetic_cert': '1 Garagem',\n",
              "   'gross_area': '146',\n",
              "   'nbaths': '2 Casas de banho',\n",
              "   'nrooms': '2 Quartos',\n",
              "   'ref': 'C0246-01948',\n",
              "   'state_prop': 'Excelente',\n",
              "   'state_sale': 'Venda',\n",
              "   'type_prop': 'Apartamento',\n",
              "   'useful_area': '126'}},\n",
              " {'prop': {'img_url': 'https://cdn.21onlineapp.com/assets/images/20200304-104328_a5329dd7-9483-4fd9-8191-68bdeeaa2353.jpg?down.colorspace=linear&f.sharpen=50&w=400&h=282&scale=both&mode=crop&format=jpg&quality=85',\n",
              "   'link': 'https://www.century21.pt/comprar/apartamento/seixal/apartamento-t2-82m2-t2-no-coracao-das-paivas-perto-de-todo-o-tipo-de-comercio-amora-paivas-2019004',\n",
              "   'location': 'Seixal, Amora, Paivas',\n",
              "   'price': '120 000 EUR',\n",
              "   'title': 'T2 no coracao das Paivas - Perto de todo o tipo de comercio!'},\n",
              "  'specs': {'construction_year': '1981',\n",
              "   'energetic_cert': 'D',\n",
              "   'gross_area': '82',\n",
              "   'nbaths': '1 Casa de banho',\n",
              "   'nrooms': '2 Quartos',\n",
              "   'ref': '0651-03073',\n",
              "   'state_prop': 'Bom',\n",
              "   'state_sale': 'Venda',\n",
              "   'type_prop': 'Apartamento',\n",
              "   'useful_area': '82'}}]"
            ]
          },
          "metadata": {
            "tags": []
          },
          "execution_count": 2
        }
      ]
    },
    {
      "cell_type": "markdown",
      "metadata": {
        "id": "5MONoAwOlIRg",
        "colab_type": "text"
      },
      "source": [
        "Resumo das casas lidas"
      ]
    },
    {
      "cell_type": "code",
      "metadata": {
        "id": "2tx2a0EYlMkn",
        "colab_type": "code",
        "outputId": "3c417b62-2779-48a7-bfb5-774853bfc0e9",
        "colab": {
          "base_uri": "https://localhost:8080/",
          "height": 458
        }
      },
      "source": [
        "\n",
        "\n",
        "from IPython.display import HTML\n",
        "from IPython.display import Image\n",
        "\n",
        "for house in houses:\n",
        "  print (house.get(\"prop\").get(\"title\") , \",\" , house.get(\"prop\").get(\"location\"), \",\" , house.get(\"prop\").get(\"price\") )\n",
        "  print(\"Detalhes-\" , house.get(\"specs\").get(\"nbaths\") , \",\" , house.get(\"specs\").get(\"nrooms\") , \", Area total\" ,house.get(\"specs\").get(\"gross_area\") , \", Area util\" ,house.get(\"specs\").get(\"useful_area\") )"
      ],
      "execution_count": 0,
      "outputs": [
        {
          "output_type": "stream",
          "text": [
            "APARTAMENTO T3 NO FEIJO R/C ALTO , Almada, Laranjeiro e Feijo, Feijo , 149 900 EUR\n",
            "Detalhes- 1 Casa de banho , 3 Quartos , Area total 100 , Area util 95\n",
            "Apartamento T2 em Torres Novas , Torres Novas, Torres Novas (Santa Maria Salvador e Santiago), Centro (Santa Maria) , 87 500 EUR\n",
            "Detalhes- 1 Casa de banho , 2 Quartos , Area total 124 , Area util 101\n",
            "T1 , 2 assoalhadas na Quinta dos Alcoutins , Lisboa, Lumiar , 236 900 EUR\n",
            "Detalhes- 1 Casa de banho , 1 Quarto , Area total 60 , Area util 56\n",
            "T2 , 3 assoalhadas na Quinta dos Alcoutins , Lisboa, Lumiar , 489 250 EUR\n",
            "Detalhes- 2 Casas de banho , 2 Quartos , Area total 134 , Area util 122\n",
            "T1 , 2 assoalhadas com terraco de 15 m2 na Quinta dos Alcoutins , Lisboa, Lumiar , 247 200 EUR\n",
            "Detalhes- 1 Casa de banho , 1 Quarto , Area total 75 , Area util 60\n",
            "T1 , 2 assoalhadas na Quinta dos Alcoutins , Lisboa, Lumiar , 257 500 EUR\n",
            "Detalhes- 1 Casa de banho , 1 Quarto , Area total 55 , Area util 55\n",
            "T2 , 3 assoalhadas na Quinta dos Alcoutins , Lisboa, Lumiar , 463 500 EUR\n",
            "Detalhes- 2 Casas de banho , 2 Quartos , Area total 118 , Area util 118\n",
            "T1, 2 assoalhadas na Quinta dos Alcoutins , Lisboa, Lumiar , 267 800 EUR\n",
            "Detalhes- 1 Casa de banho , 1 Quarto , Area total 63 , Area util 57\n",
            "T1, 2 assoalhadas na Quinta dos Alcoutins , Lisboa, Lumiar , 236 900 EUR\n",
            "Detalhes- 1 Casa de banho , 1 Quarto , Area total 59 , Area util 56\n",
            "T3, 4 assoalhadas na Quinta dos Alcoutins , Lisboa, Lumiar , 587 100 EUR\n",
            "Detalhes- 3 Casas de banho , 3 Quartos , Area total 168 , Area util 154\n",
            "T2, 3 assoalhadas na Quinta dos Alcoutins , Lisboa, Lumiar , 494 400 EUR\n",
            "Detalhes- 2 Casas de banho , 2 Quartos , Area total 146 , Area util 126\n",
            "T2 no coracao das Paivas - Perto de todo o tipo de comercio! , Seixal, Amora, Paivas , 120 000 EUR\n",
            "Detalhes- 1 Casa de banho , 2 Quartos , Area total 82 , Area util 82\n"
          ],
          "name": "stdout"
        }
      ]
    },
    {
      "cell_type": "markdown",
      "metadata": {
        "id": "kX9OBO1SzIde",
        "colab_type": "text"
      },
      "source": [
        "Price By location"
      ]
    },
    {
      "cell_type": "code",
      "metadata": {
        "id": "E-kLEmX9oXzQ",
        "colab_type": "code",
        "outputId": "212b6523-9f68-4cd0-a8cf-dba0324ccb4a",
        "colab": {
          "base_uri": "https://localhost:8080/",
          "height": 430
        }
      },
      "source": [
        "import matplotlib.pyplot as plt\n",
        "\n",
        "CostByPlace = {}\n",
        "NumByPlace = {}\n",
        "CostByPlace[\"Medio\"] = 0\n",
        "NumByPlace[\"Medio\"] = 0\n",
        "for house in houses:\n",
        "    locationaux= house.get(\"prop\").get(\"location\").split(\",\")\n",
        "    location=locationaux[0]\n",
        "    if location in CostByPlace.keys():\n",
        "        priceaux = house.get(\"prop\").get(\"price\").split()\n",
        "        price=int(priceaux[0]+priceaux[1])\n",
        "        print (priceaux , price)\n",
        "        oldPrice = CostByPlace.get(location)\n",
        "        CostByPlace[location] = oldPrice+price\n",
        "        NumByPlace[location]= NumByPlace[location]+1\n",
        "        CostByPlace[\"Medio\"] = CostByPlace[\"Medio\"] + price\n",
        "        NumByPlace[\"Medio\"] = NumByPlace[\"Medio\"] +1\n",
        "    else:\n",
        "        NumByPlace[location]= 1\n",
        "        NumByPlace[\"Medio\"] = NumByPlace[\"Medio\"] +1\n",
        "        priceaux = house.get(\"prop\").get(\"price\").split()\n",
        "        price = int(priceaux[0] + priceaux[1])\n",
        "        CostByPlace[location] = price\n",
        "        CostByPlace[\"Medio\"] = CostByPlace[\"Medio\"] + price\n",
        "\n",
        "print(CostByPlace)\n",
        "for key in CostByPlace.keys():\n",
        "    CostByPlace[key]= CostByPlace[key]/ NumByPlace[key]\n",
        "\n",
        "\n",
        "plt.bar(range(len(CostByPlace)), list(CostByPlace.values()), align='center')\n",
        "plt.xticks(range(len(CostByPlace)), list(CostByPlace.keys()))\n",
        "plt.show()"
      ],
      "execution_count": 0,
      "outputs": [
        {
          "output_type": "stream",
          "text": [
            "['489', '250', 'EUR'] 489250\n",
            "['247', '200', 'EUR'] 247200\n",
            "['257', '500', 'EUR'] 257500\n",
            "['463', '500', 'EUR'] 463500\n",
            "['267', '800', 'EUR'] 267800\n",
            "['236', '900', 'EUR'] 236900\n",
            "['587', '100', 'EUR'] 587100\n",
            "['494', '400', 'EUR'] 494400\n",
            "{'Medio': 3637950, 'Almada': 149900, 'Torres Novas': 87500, 'Lisboa': 3280550, 'Seixal': 120000}\n"
          ],
          "name": "stdout"
        },
        {
          "output_type": "display_data",
          "data": {
            "image/png": "[encoded data removed]",
            "text/plain": [
              "<Figure size 432x288 with 1 Axes>"
            ]
          },
          "metadata": {
            "tags": []
          }
        }
      ]
    },
    {
      "cell_type": "markdown",
      "metadata": {
        "id": "N9AUopkJrTPV",
        "colab_type": "text"
      },
      "source": [
        "Square Feet by location"
      ]
    },
    {
      "cell_type": "code",
      "metadata": {
        "id": "X9_CtFZTrZ1t",
        "colab_type": "code",
        "colab": {
          "base_uri": "https://localhost:8080/",
          "height": 283
        },
        "outputId": "bff56126-9a35-4c0d-c8aa-6383d4eab78f"
      },
      "source": [
        "import matplotlib.pyplot as plt\n",
        "\n",
        "AreaByPlace = {}\n",
        "NumOfArea = {}\n",
        "AreaByPlace[\"Medio\"] = 0\n",
        "NumOfArea[\"Medio\"] = 0\n",
        "for house in houses:\n",
        "    locationaux= house.get(\"prop\").get(\"location\").split(\",\")\n",
        "    location=locationaux[0]\n",
        "    if location in AreaByPlace.keys():\n",
        "        price = int(house.get(\"specs\").get(\"gross_area\"))\n",
        "        oldPrice = AreaByPlace.get(location)\n",
        "        AreaByPlace[location] = oldPrice+price\n",
        "        NumOfArea[location]= NumOfArea[location]+1\n",
        "        AreaByPlace[\"Medio\"] = AreaByPlace[\"Medio\"] + price\n",
        "        NumOfArea[\"Medio\"] = NumOfArea[\"Medio\"] +1\n",
        "    else:\n",
        "        NumOfArea[location]= 1\n",
        "        NumOfArea[\"Medio\"] = NumOfArea[\"Medio\"] +1\n",
        "        price = int(house.get(\"specs\").get(\"gross_area\"))\n",
        "        AreaByPlace[location] = price\n",
        "        AreaByPlace[\"Medio\"] = AreaByPlace[\"Medio\"] + price\n",
        "\n",
        "print(AreaByPlace)\n",
        "for key in AreaByPlace.keys():\n",
        "    AreaByPlace[key]= AreaByPlace[key]/ NumOfArea[key]\n",
        "\n",
        "\n",
        "plt.bar(range(len(AreaByPlace)), list(AreaByPlace.values()), align='center')\n",
        "plt.xticks(range(len(AreaByPlace)), list(AreaByPlace.keys()))\n",
        "plt.show()\n",
        "\n"
      ],
      "execution_count": 4,
      "outputs": [
        {
          "output_type": "stream",
          "text": [
            "{'Medio': 1184, 'Almada': 100, 'Torres Novas': 124, 'Lisboa': 878, 'Seixal': 82}\n"
          ],
          "name": "stdout"
        },
        {
          "output_type": "display_data",
          "data": {
            "image/png": "[encoded data removed]",
            "text/plain": [
              "<Figure size 432x288 with 1 Axes>"
            ]
          },
          "metadata": {
            "tags": []
          }
        }
      ]
    },
    {
      "cell_type": "markdown",
      "metadata": {
        "id": "wAERGRjU2Hh8",
        "colab_type": "text"
      },
      "source": [
        "Price By square foot by Location"
      ]
    },
    {
      "cell_type": "code",
      "metadata": {
        "id": "rYTz4Axd2N-G",
        "colab_type": "code",
        "outputId": "a62c839a-d945-4eb5-86d2-ffdc21b16785",
        "colab": {
          "base_uri": "https://localhost:8080/",
          "height": 304
        }
      },
      "source": [
        "import matplotlib.pyplot as plt\n",
        "\n",
        "CostbySquareMeter = {}\n",
        "NumOfPlace = {}\n",
        "CostbySquareMeter[\"Medio\"] = 0\n",
        "NumOfPlace[\"Medio\"] = 0\n",
        "for house in houses:\n",
        "    locationaux= house.get(\"prop\").get(\"location\").split(\",\")\n",
        "    location=locationaux[0]\n",
        "    if location in CostbySquareMeter.keys():\n",
        "        grossArea = int(house.get(\"specs\").get(\"gross_area\"))\n",
        "        priceaux = house.get(\"prop\").get(\"price\").split()\n",
        "        price=int(priceaux[0]+priceaux[1])/grossArea\n",
        "        #print ( location , grossArea , price , price/grossArea)\n",
        "        oldPrice = CostbySquareMeter.get(location)\n",
        "        CostbySquareMeter[location] = oldPrice+price\n",
        "        NumOfPlace[location]= NumOfPlace[location]+1\n",
        "        CostbySquareMeter[\"Medio\"] = CostbySquareMeter[\"Medio\"] + price\n",
        "        NumOfPlace[\"Medio\"] = NumOfPlace[\"Medio\"] +1\n",
        "    else:\n",
        "        NumOfPlace[location]= 1\n",
        "        grossArea = int(house.get(\"specs\").get(\"gross_area\"))\n",
        "        NumOfPlace[\"Medio\"] = NumOfPlace[\"Medio\"] +1\n",
        "        priceaux = house.get(\"prop\").get(\"price\").split()\n",
        "        price = int(priceaux[0] + priceaux[1])/grossArea\n",
        "        CostbySquareMeter[location] = price\n",
        "        CostbySquareMeter[\"Medio\"] = CostbySquareMeter[\"Medio\"] + price\n",
        "\n",
        "\n",
        "print(CostbySquareMeter)\n",
        "for key in CostbySquareMeter.keys():\n",
        "    CostbySquareMeter[key]= CostbySquareMeter[key]/ NumOfPlace[key]\n",
        "print(CostbySquareMeter)\n",
        "\n",
        "\n",
        "\n",
        "\n",
        "plt.bar(range(len(CostbySquareMeter)), list(CostbySquareMeter.values()), align='center')\n",
        "plt.xticks(range(len(CostbySquareMeter)), list(CostbySquareMeter.keys()))\n",
        "plt.show()"
      ],
      "execution_count": 0,
      "outputs": [
        {
          "output_type": "stream",
          "text": [
            "{'Medio': 38320.288930355826, 'Almada': 1499.0, 'Torres Novas': 705.6451612903226, 'Lisboa': 34652.229134919166, 'Seixal': 1463.4146341463415}\n",
            "{'Medio': 3193.3574108629855, 'Almada': 1499.0, 'Torres Novas': 705.6451612903226, 'Lisboa': 3850.247681657685, 'Seixal': 1463.4146341463415}\n"
          ],
          "name": "stdout"
        },
        {
          "output_type": "display_data",
          "data": {
            "image/png": "[encoded data removed]",
            "text/plain": [
              "<Figure size 432x288 with 1 Axes>"
            ]
          },
          "metadata": {
            "tags": []
          }
        }
      ]
    },
    {
      "cell_type": "markdown",
      "metadata": {
        "id": "3OrFmsOI0OHm",
        "colab_type": "text"
      },
      "source": [
        "Price By gross area"
      ]
    },
    {
      "cell_type": "code",
      "metadata": {
        "id": "mwYk97JG0OfU",
        "colab_type": "code",
        "colab": {
          "base_uri": "https://localhost:8080/",
          "height": 265
        },
        "outputId": "a321796b-5f72-414a-9b67-b09f61e1853e"
      },
      "source": [
        "\n",
        "import matplotlib.pyplot as plt\n",
        "\n",
        "GrossArea=[]\n",
        "Price=[]\n",
        "colors=[]\n",
        "area=[]\n",
        "for house in houses:\n",
        "    GrossArea.append(house.get(\"specs\").get(\"gross_area\"))\n",
        "    priceaux = house.get(\"prop\").get(\"price\").split()\n",
        "    price = int(priceaux[0] + priceaux[1])\n",
        "    Price.append(price)\n",
        "    colors.append(0.5)\n",
        "    area.append(50)\n",
        "\n",
        "\n",
        "\n",
        "\n",
        "plt.scatter(Price, GrossArea, s=area, c=colors, alpha=0.5)\n",
        "plt.show()\n",
        "\n"
      ],
      "execution_count": 5,
      "outputs": [
        {
          "output_type": "display_data",
          "data": {
            "image/png": "[encoded data removed]",
            "text/plain": [
              "<Figure size 432x288 with 1 Axes>"
            ]
          },
          "metadata": {
            "tags": []
          }
        }
      ]
    }
  ]
}