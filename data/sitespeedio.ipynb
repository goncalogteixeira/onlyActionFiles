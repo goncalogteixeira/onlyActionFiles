{
 "cells": [
  {
   "cell_type": "code",
   "execution_count": 1,
   "outputs": [
    {
     "output_type": "stream",
     "name": "stdout",
     "text": "Requirement already satisfied: matplotlib in c:\\python38\\lib\\site-packages (3.2.1)WARNING: You are using pip version 19.2.3, however version 20.1 is available.\nYou should consider upgrading via the 'python -m pip install --upgrade pip' command.\n\nRequirement already satisfied: numpy>=1.11 in c:\\python38\\lib\\site-packages (from matplotlib) (1.18.3)\nRequirement already satisfied: python-dateutil>=2.1 in c:\\python38\\lib\\site-packages (from matplotlib) (2.8.1)\nRequirement already satisfied: pyparsing!=2.0.4,!=2.1.2,!=2.1.6,>=2.0.1 in c:\\python38\\lib\\site-packages (from matplotlib) (2.4.7)\nRequirement already satisfied: kiwisolver>=1.0.1 in c:\\python38\\lib\\site-packages (from matplotlib) (1.2.0)\nRequirement already satisfied: cycler>=0.10 in c:\\python38\\lib\\site-packages (from matplotlib) (0.10.0)\nRequirement already satisfied: six>=1.5 in c:\\python38\\lib\\site-packages (from python-dateutil>=2.1->matplotlib) (1.14.0)\nRequirement already satisfied: pandas in c:\\python38\\lib\\site-packages (1.0.3)\nRequirement already satisfied: numpy>=1.13.3 in c:\\python38\\lib\\site-packages (from pandas) (1.18.3)\nWARNING: You are using pip version 19.2.3, however version 20.1 is available.\nYou should consider upgrading via the 'python -m pip install --upgrade pip' command.\nRequirement already satisfied: python-dateutil>=2.6.1 in c:\\python38\\lib\\site-packages (from pandas) (2.8.1)\nRequirement already satisfied: pytz>=2017.2 in c:\\python38\\lib\\site-packages (from pandas) (2019.3)\nRequirement already satisfied: six>=1.5 in c:\\python38\\lib\\site-packages (from python-dateutil>=2.6.1->pandas) (1.14.0)\nRequirement already satisfied: requests in c:\\python38\\lib\\site-packages (2.23.0)\nRequirement already satisfied: chardet<4,>=3.0.2 in c:\\python38\\lib\\site-packages (from requests) (3.0.4)\nRequirement already satisfied: urllib3!=1.25.0,!=1.25.1,<1.26,>=1.21.1 in c:\\python38\\lib\\site-packages (from requests) (1.25.9)\nRequirement already satisfied: idna<3,>=2.5 in c:\\python38\\lib\\site-packages (from requests) (2.9)\nRequirement already satisfied: certifi>=2017.4.17 in c:\\python38\\lib\\site-packages (from requests) (2020.4.5.1)\nWARNING: You are using pip version 19.2.3, however version 20.1 is available.\nYou should consider upgrading via the 'python -m pip install --upgrade pip' command.\nRequirement already satisfied: datetime in c:\\python38\\lib\\site-packages (4.3)\nRequirement already satisfied: pytz in c:\\python38\\lib\\site-packages (from datetime) (2019.3)WARNING: You are using pip version 19.2.3, however version 20.1 is available.\nYou should consider upgrading via the 'python -m pip install --upgrade pip' command.\n\nRequirement already satisfied: zope.interface in c:\\python38\\lib\\site-packages (from datetime) (5.0.2)\nRequirement already satisfied: setuptools in c:\\python38\\lib\\site-packages (from zope.interface->datetime) (41.2.0)\nRequirement already satisfied: scipy in c:\\python38\\lib\\site-packages (1.4.1)\nRequirement already satisfied: numpy>=1.13.3 in c:\\python38\\lib\\site-packages (from scipy) (1.18.3)\nWARNING: You are using pip version 19.2.3, however version 20.1 is available.\nYou should consider upgrading via the 'python -m pip install --upgrade pip' command.\nRequirement already satisfied: plotly in c:\\python38\\lib\\site-packages (4.6.0)\nRequirement already satisfied: six in c:\\python38\\lib\\site-packages (from plotly) (1.14.0)\nWARNING: You are using pip version 19.2.3, however version 20.1 is available.\nYou should consider upgrading via the 'python -m pip install --upgrade pip' command.\nRequirement already satisfied: retrying>=1.3.3 in c:\\python38\\lib\\site-packages (from plotly) (1.3.3)\n"
    }
   ],
   "source": [
    "#hide\n",
    "!pip install matplotlib\n",
    "!pip install pandas\n",
    "!pip install requests\n",
    "!pip install datetime\n",
    "\n",
    "!pip install scipy\n",
    "!pip install plotly\n"
   ],
   "metadata": {
    "collapsed": false,
    "pycharm": {
     "name": "#%%\n"
    }
   }
  },
  {
   "cell_type": "code",
   "execution_count": 2,
   "outputs": [
    {
     "output_type": "execute_result",
     "data": {
      "text/plain": "['remaxdev-bonfim_devscope_net',\n 'remaxdev-francos_devscope_net',\n 'www_century21_pt',\n 'www_remax_pt']"
     },
     "metadata": {},
     "execution_count": 2
    }
   ],
   "source": [
    "#hide\n",
    "import os\n",
    "QUERY_TIME=\"&from=now-6d&to=now\"\n",
    "K8sAddress='http://k8s00:30670/render?target='\n",
    "import matplotlib.pyplot as plt\n",
    "import numpy as np\n",
    "import pandas as pd\n",
    "directory=\"/\" + os.path.join(\"data\",\"sitespeedio\")\n",
    "targets= []\n",
    "for site in os.listdir(directory):\n",
    "    if site!= \"Report\":\n",
    "        targets.append( site.replace(\".\",\"_\"))\n",
    "targets\n",
    "\n"
   ],
   "metadata": {
    "collapsed": false,
    "pycharm": {
     "name": "#%%\n"
    }
   }
  },
  {
   "cell_type": "code",
   "execution_count": 3,
   "outputs": [],
   "source": [
    "#hide\n",
    "import requests\n",
    "from datetime import datetime\n",
    "import altair as alt\n",
    "def getData(target, time):\n",
    "    #print('http://k8s00:30670/render?target='+target+time +'&format=json')\n",
    "    r = requests.get(K8sAddress+target+time +'&format=json')\n",
    "    result=[]\n",
    "    a= r.json()\n",
    "    #print(a)\n",
    "    a= a[0]\n",
    "    for line in a.get(\"datapoints\"):\n",
    "        if str(line [0]).find(\"None\") == -1 and len(result) > 6:\n",
    "            result.append(line)\n",
    "    return result\n",
    "\n",
    "def getDataFrame(targets, graphite):\n",
    "    index=[]\n",
    "    timestamps= getData(graphite[0] + targets[0] +graphite[1] , QUERY_TIME)\n",
    "    for timestamp in timestamps:\n",
    "        index.append( datetime.fromtimestamp(timestamp[1]))\n",
    "    df = pd.DataFrame(columns=targets, index=index )\n",
    "    for target in targets:\n",
    "        list = getData(graphite[0] + target +graphite[1] , QUERY_TIME)\n",
    "        for num in range(len(list)):\n",
    "            df[target][index[num]]= list[num][0]\n",
    "    return df\n",
    "\n",
    "\n",
    "\n"
   ],
   "metadata": {
    "collapsed": false,
    "pycharm": {
     "name": "#%%\n"
    }
   }
  },
  {
   "cell_type": "code",
   "execution_count": 4,
   "outputs": [],
   "source": [
    "from plotly.offline import plot as py\n",
    "from plotly.graph_objects import Scatter\n",
    "from plotly.graph_objects import Line\n",
    "from plotly.graph_objects import Layout\n",
    "from plotly.graph_objects import Data\n",
    "from plotly.graph_objects import Figure\n",
    "def interactiveChart(dfs , labels):\n",
    "    colors=['#FF6633', '#FFB399', '#FF33FF', '#FFFF99', '#00B3E6',\n",
    "\t\t  '#E6B333', '#3366E6', '#999966', '#99FF99', '#B34D4D',\n",
    "\t\t  '#80B300', '#809900', '#E6B3B3', '#6680B3', '#66991A',\n",
    "\t\t  '#FF99E6', '#CCFF1A', '#FF1A66', '#E6331A', '#33FFCC',\n",
    "\t\t  '#66994D', '#B366CC', '#4D8000', '#B33300', '#CC80CC',\n",
    "\t\t  '#66664D', '#991AFF', '#E666FF', '#4DB3FF', '#1AB399',\n",
    "\t\t  '#E666B3', '#33991A', '#CC9999', '#B3B31A', '#00E680',\n",
    "\t\t  '#4D8066', '#809980', '#E6FF80', '#1AFF33', '#999933',\n",
    "\t\t  '#FF3380', '#CCCC00', '#66E64D', '#4D80CC', '#9900B3',\n",
    "\t\t  '#E64D66', '#4DB380', '#FF4D4D', '#99E6E6', '#6666FF']\n",
    "    traces=[]\n",
    "    buttons=[]\n",
    "    num=0\n",
    "    for df in dfs:\n",
    "        visible=False\n",
    "        if num==0 :\n",
    "            visible=True\n",
    "        for target in list(df.columns):\n",
    "            traces.append(Scatter(\n",
    "            x=list(df.index), y=df[target],\n",
    "            line=Line(\n",
    "                color=colors[targets.index(target)],\n",
    "                width=3\n",
    "            ),\n",
    "            name=target,\n",
    "            visible=visible,\n",
    "            ))\n",
    "        visibility=[]\n",
    "        #print(len(df.columns))\n",
    "        for i in range(num*len(df.columns)):\n",
    "            visibility.append(False)\n",
    "        for i in range(len(list(df.columns))):\n",
    "            visibility.append(True)\n",
    "        while len(visibility) < len(dfs)*len(list(df.columns)):\n",
    "            visibility.append(False)\n",
    "        print(visibility)\n",
    "        buttons.append(dict(\n",
    "                        args=['visible', visibility],\n",
    "                        label=labels[num],\n",
    "                        method='restyle'\n",
    "                    ))\n",
    "        num+=1\n",
    "\n",
    "\n",
    "    data = Data(traces)\n",
    "    layout = Layout(\n",
    "        title='Sitespeedio report',\n",
    "        updatemenus=list([\n",
    "            dict(\n",
    "                x=-0.05,\n",
    "                y=1,\n",
    "                yanchor='top',\n",
    "                buttons=buttons,\n",
    "            )\n",
    "        ]),\n",
    "    )\n",
    "    fig = Figure(data=data, layout=layout)\n",
    "    py(fig)\n",
    "\n"
   ],
   "metadata": {
    "collapsed": false,
    "pycharm": {
     "name": "#%%\n"
    }
   }
  },
  {
   "cell_type": "code",
   "execution_count": 5,
   "outputs": [
    {
     "output_type": "execute_result",
     "data": {
      "text/plain": "Empty DataFrame\nColumns: [remaxdev-bonfim_devscope_net, remaxdev-francos_devscope_net, www_century21_pt, www_remax_pt]\nIndex: []",
      "text/html": "<div>\n<style scoped>\n    .dataframe tbody tr th:only-of-type {\n        vertical-align: middle;\n    }\n\n    .dataframe tbody tr th {\n        vertical-align: top;\n    }\n\n    .dataframe thead th {\n        text-align: right;\n    }\n</style>\n<table border=\"1\" class=\"dataframe\">\n  <thead>\n    <tr style=\"text-align: right;\">\n      <th></th>\n      <th>remaxdev-bonfim_devscope_net</th>\n      <th>remaxdev-francos_devscope_net</th>\n      <th>www_century21_pt</th>\n      <th>www_remax_pt</th>\n    </tr>\n  </thead>\n  <tbody>\n  </tbody>\n</table>\n</div>"
     },
     "metadata": {},
     "execution_count": 5
    }
   ],
   "source": [
    "\n",
    "#hide_input\n",
    "import pandas as pd\n",
    "import numpy as np\n",
    "import scipy as sp\n",
    "from plotly.offline import plot as py\n",
    "from plotly import figure_factory as ff\n",
    "\n",
    "\n",
    "firstPaintdf = getDataFrame(targets , [\"sitespeed_io.default.summary.\" ,\".chrome.native.browsertime.firstPaint.mean\"])\n",
    "\n",
    "firstPaintdf"
   ],
   "metadata": {
    "collapsed": false,
    "pycharm": {
     "name": "#%%\n"
    }
   }
  },
  {
   "cell_type": "code",
   "execution_count": 6,
   "outputs": [
    {
     "output_type": "execute_result",
     "data": {
      "text/plain": "Empty DataFrame\nColumns: [remaxdev-bonfim_devscope_net, remaxdev-francos_devscope_net, www_century21_pt, www_remax_pt]\nIndex: []",
      "text/html": "<div>\n<style scoped>\n    .dataframe tbody tr th:only-of-type {\n        vertical-align: middle;\n    }\n\n    .dataframe tbody tr th {\n        vertical-align: top;\n    }\n\n    .dataframe thead th {\n        text-align: right;\n    }\n</style>\n<table border=\"1\" class=\"dataframe\">\n  <thead>\n    <tr style=\"text-align: right;\">\n      <th></th>\n      <th>remaxdev-bonfim_devscope_net</th>\n      <th>remaxdev-francos_devscope_net</th>\n      <th>www_century21_pt</th>\n      <th>www_remax_pt</th>\n    </tr>\n  </thead>\n  <tbody>\n  </tbody>\n</table>\n</div>"
     },
     "metadata": {},
     "execution_count": 6
    }
   ],
   "source": [
    "#hide_input\n",
    "cpuLongTasks = getDataFrame(targets , [\"sitespeed_io.default.summary.\",\".chrome.native.browsertime.cpu.longTasks.totalBlockingTime.mean\"])\n",
    "\n",
    "cpuLongTasks"
   ],
   "metadata": {
    "collapsed": false,
    "pycharm": {
     "name": "#%%\n"
    }
   }
  },
  {
   "cell_type": "code",
   "execution_count": 7,
   "outputs": [
    {
     "output_type": "execute_result",
     "data": {
      "text/plain": "Empty DataFrame\nColumns: [remaxdev-bonfim_devscope_net, remaxdev-francos_devscope_net, www_century21_pt, www_remax_pt]\nIndex: []",
      "text/html": "<div>\n<style scoped>\n    .dataframe tbody tr th:only-of-type {\n        vertical-align: middle;\n    }\n\n    .dataframe tbody tr th {\n        vertical-align: top;\n    }\n\n    .dataframe thead th {\n        text-align: right;\n    }\n</style>\n<table border=\"1\" class=\"dataframe\">\n  <thead>\n    <tr style=\"text-align: right;\">\n      <th></th>\n      <th>remaxdev-bonfim_devscope_net</th>\n      <th>remaxdev-francos_devscope_net</th>\n      <th>www_century21_pt</th>\n      <th>www_remax_pt</th>\n    </tr>\n  </thead>\n  <tbody>\n  </tbody>\n</table>\n</div>"
     },
     "metadata": {},
     "execution_count": 7
    }
   ],
   "source": [
    "#hide_input\n",
    "coach = getDataFrame(targets , [\"sitespeed_io.default.summary.\",\".chrome.native.coach.score.mean\"])\n",
    "\n",
    "coach\n"
   ],
   "metadata": {
    "collapsed": false,
    "pycharm": {
     "name": "#%%\n"
    }
   }
  },
  {
   "cell_type": "code",
   "execution_count": 8,
   "outputs": [
    {
     "output_type": "stream",
     "name": "stderr",
     "text": "C:\\Python38\\lib\\site-packages\\plotly\\graph_objs\\_deprecations.py:378: DeprecationWarning:\n\nplotly.graph_objs.Line is deprecated.\nPlease replace it with one of the following more specific types\n  - plotly.graph_objs.scatter.Line\n  - plotly.graph_objs.layout.shape.Line\n  - etc.\n\n\n[True, True, True, True, False, False, False, False, False, False, False, False]\n[False, False, False, False, True, True, True, True, False, False, False, False]\n[False, False, False, False, False, False, False, False, True, True, True, True]\nC:\\Python38\\lib\\site-packages\\plotly\\graph_objs\\_deprecations.py:31: DeprecationWarning:\n\nplotly.graph_objs.Data is deprecated.\nPlease replace it with a list or tuple of instances of the following types\n  - plotly.graph_objs.Scatter\n  - plotly.graph_objs.Bar\n  - plotly.graph_objs.Area\n  - plotly.graph_objs.Histogram\n  - etc.\n\n\n"
    }
   ],
   "source": [
    "#hide_input\n",
    "dfs =[firstPaintdf, cpuLongTasks , coach]\n",
    "interactiveChart(dfs , [\"Paint Time\" , \"CPU long tasks\" , \"Coach score\"])\n"
   ],
   "metadata": {
    "collapsed": false,
    "pycharm": {
     "name": "#%%\n"
    }
   }
  },
  {
   "cell_type": "code",
   "execution_count": 9,
   "metadata": {},
   "outputs": [
    {
     "output_type": "execute_result",
     "data": {
      "text/plain": "<IPython.lib.display.IFrame at 0x1eaca7b7220>",
      "text/html": "\n        <iframe\n            width=\"1000\"\n            height=\"500\"\n            src=\"./temp-plot.html\"\n            frameborder=\"0\"\n            allowfullscreen\n        ></iframe>\n        "
     },
     "metadata": {},
     "execution_count": 9
    }
   ],
   "source": [
    "#hide_input\n",
    "from IPython.display import IFrame\n",
    "IFrame('./temp-plot.html', width=1000, height=500)"
   ]
  }
 ],
 "metadata": {
  "kernelspec": {
   "display_name": "Python 3.8.2 64-bit",
   "language": "python",
   "name": "python38264bit6a18061ead60445f8380e9057d07e072"
  },
  "language_info": {
   "codemirror_mode": {
    "name": "ipython",
    "version": 2
   },
   "file_extension": ".py",
   "mimetype": "text/x-python",
   "name": "python",
   "nbconvert_exporter": "python",
   "pygments_lexer": "ipython2",
   "version": "3.8.2-final"
  }
 },
 "nbformat": 4,
 "nbformat_minor": 0
}